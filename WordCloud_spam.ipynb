{
 "cells": [
  {
   "cell_type": "code",
   "execution_count": 1,
   "metadata": {},
   "outputs": [],
   "source": [
    "import pandas as pd\n",
    "import numpy as np\n",
    "import nltk\n",
    "import matplotlib.pyplot as plt"
   ]
  },
  {
   "cell_type": "code",
   "execution_count": 57,
   "metadata": {},
   "outputs": [],
   "source": [
    "import os\n",
    "\n",
    "import sys"
   ]
  },
  {
   "cell_type": "code",
   "execution_count": 58,
   "metadata": {},
   "outputs": [
    {
     "data": {
      "text/plain": [
       "'C:\\\\Users\\\\Ujjwal'"
      ]
     },
     "execution_count": 58,
     "metadata": {},
     "output_type": "execute_result"
    }
   ],
   "source": [
    "os.getcwd()"
   ]
  },
  {
   "cell_type": "code",
   "execution_count": 2,
   "metadata": {},
   "outputs": [],
   "source": [
    "messages = pd.read_csv(\"spam.csv\", encoding='cp1252')"
   ]
  },
  {
   "cell_type": "code",
   "execution_count": 3,
   "metadata": {},
   "outputs": [
    {
     "data": {
      "text/html": [
       "<div>\n",
       "<style scoped>\n",
       "    .dataframe tbody tr th:only-of-type {\n",
       "        vertical-align: middle;\n",
       "    }\n",
       "\n",
       "    .dataframe tbody tr th {\n",
       "        vertical-align: top;\n",
       "    }\n",
       "\n",
       "    .dataframe thead th {\n",
       "        text-align: right;\n",
       "    }\n",
       "</style>\n",
       "<table border=\"1\" class=\"dataframe\">\n",
       "  <thead>\n",
       "    <tr style=\"text-align: right;\">\n",
       "      <th></th>\n",
       "      <th>v1</th>\n",
       "      <th>v2</th>\n",
       "      <th>Unnamed: 2</th>\n",
       "      <th>Unnamed: 3</th>\n",
       "      <th>Unnamed: 4</th>\n",
       "    </tr>\n",
       "  </thead>\n",
       "  <tbody>\n",
       "    <tr>\n",
       "      <td>0</td>\n",
       "      <td>ham</td>\n",
       "      <td>Go until jurong point, crazy.. Available only ...</td>\n",
       "      <td>NaN</td>\n",
       "      <td>NaN</td>\n",
       "      <td>NaN</td>\n",
       "    </tr>\n",
       "    <tr>\n",
       "      <td>1</td>\n",
       "      <td>ham</td>\n",
       "      <td>Ok lar... Joking wif u oni...</td>\n",
       "      <td>NaN</td>\n",
       "      <td>NaN</td>\n",
       "      <td>NaN</td>\n",
       "    </tr>\n",
       "    <tr>\n",
       "      <td>2</td>\n",
       "      <td>spam</td>\n",
       "      <td>Free entry in 2 a wkly comp to win FA Cup fina...</td>\n",
       "      <td>NaN</td>\n",
       "      <td>NaN</td>\n",
       "      <td>NaN</td>\n",
       "    </tr>\n",
       "    <tr>\n",
       "      <td>3</td>\n",
       "      <td>ham</td>\n",
       "      <td>U dun say so early hor... U c already then say...</td>\n",
       "      <td>NaN</td>\n",
       "      <td>NaN</td>\n",
       "      <td>NaN</td>\n",
       "    </tr>\n",
       "    <tr>\n",
       "      <td>4</td>\n",
       "      <td>ham</td>\n",
       "      <td>Nah I don't think he goes to usf, he lives aro...</td>\n",
       "      <td>NaN</td>\n",
       "      <td>NaN</td>\n",
       "      <td>NaN</td>\n",
       "    </tr>\n",
       "  </tbody>\n",
       "</table>\n",
       "</div>"
      ],
      "text/plain": [
       "     v1                                                 v2 Unnamed: 2  \\\n",
       "0   ham  Go until jurong point, crazy.. Available only ...        NaN   \n",
       "1   ham                      Ok lar... Joking wif u oni...        NaN   \n",
       "2  spam  Free entry in 2 a wkly comp to win FA Cup fina...        NaN   \n",
       "3   ham  U dun say so early hor... U c already then say...        NaN   \n",
       "4   ham  Nah I don't think he goes to usf, he lives aro...        NaN   \n",
       "\n",
       "  Unnamed: 3 Unnamed: 4  \n",
       "0        NaN        NaN  \n",
       "1        NaN        NaN  \n",
       "2        NaN        NaN  \n",
       "3        NaN        NaN  \n",
       "4        NaN        NaN  "
      ]
     },
     "execution_count": 3,
     "metadata": {},
     "output_type": "execute_result"
    }
   ],
   "source": [
    "messages.head()"
   ]
  },
  {
   "cell_type": "code",
   "execution_count": 4,
   "metadata": {},
   "outputs": [],
   "source": [
    "messages.rename(columns={\"v1\":\"label\",\"v2\":\"message\"},inplace=True)"
   ]
  },
  {
   "cell_type": "code",
   "execution_count": 5,
   "metadata": {},
   "outputs": [],
   "source": [
    "length=messages.message.apply(len)"
   ]
  },
  {
   "cell_type": "code",
   "execution_count": 6,
   "metadata": {},
   "outputs": [],
   "source": [
    "messages=messages.iloc[:,[0,1]]"
   ]
  },
  {
   "cell_type": "code",
   "execution_count": 7,
   "metadata": {},
   "outputs": [
    {
     "data": {
      "text/html": [
       "<div>\n",
       "<style scoped>\n",
       "    .dataframe tbody tr th:only-of-type {\n",
       "        vertical-align: middle;\n",
       "    }\n",
       "\n",
       "    .dataframe tbody tr th {\n",
       "        vertical-align: top;\n",
       "    }\n",
       "\n",
       "    .dataframe thead th {\n",
       "        text-align: right;\n",
       "    }\n",
       "</style>\n",
       "<table border=\"1\" class=\"dataframe\">\n",
       "  <thead>\n",
       "    <tr style=\"text-align: right;\">\n",
       "      <th></th>\n",
       "      <th>label</th>\n",
       "      <th>message</th>\n",
       "    </tr>\n",
       "  </thead>\n",
       "  <tbody>\n",
       "    <tr>\n",
       "      <td>0</td>\n",
       "      <td>ham</td>\n",
       "      <td>Go until jurong point, crazy.. Available only ...</td>\n",
       "    </tr>\n",
       "    <tr>\n",
       "      <td>1</td>\n",
       "      <td>ham</td>\n",
       "      <td>Ok lar... Joking wif u oni...</td>\n",
       "    </tr>\n",
       "    <tr>\n",
       "      <td>2</td>\n",
       "      <td>spam</td>\n",
       "      <td>Free entry in 2 a wkly comp to win FA Cup fina...</td>\n",
       "    </tr>\n",
       "    <tr>\n",
       "      <td>3</td>\n",
       "      <td>ham</td>\n",
       "      <td>U dun say so early hor... U c already then say...</td>\n",
       "    </tr>\n",
       "    <tr>\n",
       "      <td>4</td>\n",
       "      <td>ham</td>\n",
       "      <td>Nah I don't think he goes to usf, he lives aro...</td>\n",
       "    </tr>\n",
       "  </tbody>\n",
       "</table>\n",
       "</div>"
      ],
      "text/plain": [
       "  label                                            message\n",
       "0   ham  Go until jurong point, crazy.. Available only ...\n",
       "1   ham                      Ok lar... Joking wif u oni...\n",
       "2  spam  Free entry in 2 a wkly comp to win FA Cup fina...\n",
       "3   ham  U dun say so early hor... U c already then say...\n",
       "4   ham  Nah I don't think he goes to usf, he lives aro..."
      ]
     },
     "execution_count": 7,
     "metadata": {},
     "output_type": "execute_result"
    }
   ],
   "source": [
    "messages.head()"
   ]
  },
  {
   "cell_type": "code",
   "execution_count": 8,
   "metadata": {},
   "outputs": [],
   "source": [
    "messages=pd.concat([messages,length],axis=1)"
   ]
  },
  {
   "cell_type": "code",
   "execution_count": 9,
   "metadata": {},
   "outputs": [],
   "source": [
    "messages.columns.values[2]=\"Length\""
   ]
  },
  {
   "cell_type": "code",
   "execution_count": 10,
   "metadata": {},
   "outputs": [
    {
     "data": {
      "text/html": [
       "<div>\n",
       "<style scoped>\n",
       "    .dataframe tbody tr th:only-of-type {\n",
       "        vertical-align: middle;\n",
       "    }\n",
       "\n",
       "    .dataframe tbody tr th {\n",
       "        vertical-align: top;\n",
       "    }\n",
       "\n",
       "    .dataframe thead th {\n",
       "        text-align: right;\n",
       "    }\n",
       "</style>\n",
       "<table border=\"1\" class=\"dataframe\">\n",
       "  <thead>\n",
       "    <tr style=\"text-align: right;\">\n",
       "      <th></th>\n",
       "      <th>label</th>\n",
       "      <th>message</th>\n",
       "      <th>Length</th>\n",
       "    </tr>\n",
       "  </thead>\n",
       "  <tbody>\n",
       "    <tr>\n",
       "      <td>0</td>\n",
       "      <td>ham</td>\n",
       "      <td>Go until jurong point, crazy.. Available only ...</td>\n",
       "      <td>111</td>\n",
       "    </tr>\n",
       "    <tr>\n",
       "      <td>1</td>\n",
       "      <td>ham</td>\n",
       "      <td>Ok lar... Joking wif u oni...</td>\n",
       "      <td>29</td>\n",
       "    </tr>\n",
       "    <tr>\n",
       "      <td>2</td>\n",
       "      <td>spam</td>\n",
       "      <td>Free entry in 2 a wkly comp to win FA Cup fina...</td>\n",
       "      <td>155</td>\n",
       "    </tr>\n",
       "    <tr>\n",
       "      <td>3</td>\n",
       "      <td>ham</td>\n",
       "      <td>U dun say so early hor... U c already then say...</td>\n",
       "      <td>49</td>\n",
       "    </tr>\n",
       "    <tr>\n",
       "      <td>4</td>\n",
       "      <td>ham</td>\n",
       "      <td>Nah I don't think he goes to usf, he lives aro...</td>\n",
       "      <td>61</td>\n",
       "    </tr>\n",
       "  </tbody>\n",
       "</table>\n",
       "</div>"
      ],
      "text/plain": [
       "  label                                            message  Length\n",
       "0   ham  Go until jurong point, crazy.. Available only ...     111\n",
       "1   ham                      Ok lar... Joking wif u oni...      29\n",
       "2  spam  Free entry in 2 a wkly comp to win FA Cup fina...     155\n",
       "3   ham  U dun say so early hor... U c already then say...      49\n",
       "4   ham  Nah I don't think he goes to usf, he lives aro...      61"
      ]
     },
     "execution_count": 10,
     "metadata": {},
     "output_type": "execute_result"
    }
   ],
   "source": [
    "messages.head()"
   ]
  },
  {
   "cell_type": "code",
   "execution_count": 11,
   "metadata": {},
   "outputs": [],
   "source": [
    "from nltk.corpus import stopwords"
   ]
  },
  {
   "cell_type": "code",
   "execution_count": 12,
   "metadata": {},
   "outputs": [],
   "source": [
    "stoplist=stopwords.words(\"english\")"
   ]
  },
  {
   "cell_type": "code",
   "execution_count": 54,
   "metadata": {},
   "outputs": [
    {
     "data": {
      "text/plain": [
       "list"
      ]
     },
     "execution_count": 54,
     "metadata": {},
     "output_type": "execute_result"
    }
   ],
   "source": [
    "type(stoplist)"
   ]
  },
  {
   "cell_type": "markdown",
   "metadata": {},
   "source": [
    "stoplist"
   ]
  },
  {
   "cell_type": "code",
   "execution_count": 13,
   "metadata": {},
   "outputs": [
    {
     "data": {
      "text/plain": [
       "'!\"#$%&\\'()*+,-./:;<=>?@[\\\\]^_`{|}~'"
      ]
     },
     "execution_count": 13,
     "metadata": {},
     "output_type": "execute_result"
    }
   ],
   "source": [
    "import string\n",
    "string.punctuation"
   ]
  },
  {
   "cell_type": "markdown",
   "metadata": {},
   "source": [
    "## Example to understand removing punction"
   ]
  },
  {
   "cell_type": "code",
   "execution_count": 14,
   "metadata": {},
   "outputs": [],
   "source": [
    "abc=\"i want to ? remove !! all the punctuation marks $ from \\\\\""
   ]
  },
  {
   "cell_type": "code",
   "execution_count": 15,
   "metadata": {},
   "outputs": [],
   "source": [
    "abc_refined=[i for i in abc if i not in string.punctuation]"
   ]
  },
  {
   "cell_type": "code",
   "execution_count": 16,
   "metadata": {},
   "outputs": [
    {
     "data": {
      "text/plain": [
       "['i',\n",
       " ' ',\n",
       " 'w',\n",
       " 'a',\n",
       " 'n',\n",
       " 't',\n",
       " ' ',\n",
       " 't',\n",
       " 'o',\n",
       " ' ',\n",
       " ' ',\n",
       " 'r',\n",
       " 'e',\n",
       " 'm',\n",
       " 'o',\n",
       " 'v',\n",
       " 'e',\n",
       " ' ',\n",
       " ' ',\n",
       " 'a',\n",
       " 'l',\n",
       " 'l',\n",
       " ' ',\n",
       " 't',\n",
       " 'h',\n",
       " 'e',\n",
       " ' ',\n",
       " 'p',\n",
       " 'u',\n",
       " 'n',\n",
       " 'c',\n",
       " 't',\n",
       " 'u',\n",
       " 'a',\n",
       " 't',\n",
       " 'i',\n",
       " 'o',\n",
       " 'n',\n",
       " ' ',\n",
       " 'm',\n",
       " 'a',\n",
       " 'r',\n",
       " 'k',\n",
       " 's',\n",
       " ' ',\n",
       " ' ',\n",
       " 'f',\n",
       " 'r',\n",
       " 'o',\n",
       " 'm',\n",
       " ' ']"
      ]
     },
     "execution_count": 16,
     "metadata": {},
     "output_type": "execute_result"
    }
   ],
   "source": [
    "abc_refined"
   ]
  },
  {
   "cell_type": "code",
   "execution_count": 17,
   "metadata": {},
   "outputs": [
    {
     "data": {
      "text/plain": [
       "'i want to  remove  all the punctuation marks  from '"
      ]
     },
     "execution_count": 17,
     "metadata": {},
     "output_type": "execute_result"
    }
   ],
   "source": [
    "abc_refined=\"\".join(abc_refined)\n",
    "abc_refined"
   ]
  },
  {
   "cell_type": "code",
   "execution_count": 18,
   "metadata": {},
   "outputs": [],
   "source": [
    "aa=abc_refined.split()"
   ]
  },
  {
   "cell_type": "code",
   "execution_count": 19,
   "metadata": {},
   "outputs": [
    {
     "data": {
      "text/plain": [
       "['i', 'want', 'to', 'remove', 'all', 'the', 'punctuation', 'marks', 'from']"
      ]
     },
     "execution_count": 19,
     "metadata": {},
     "output_type": "execute_result"
    }
   ],
   "source": [
    "aa"
   ]
  },
  {
   "cell_type": "markdown",
   "metadata": {},
   "source": [
    "## User Defined Function to Remove stopwords and Punctuations "
   ]
  },
  {
   "cell_type": "code",
   "execution_count": 20,
   "metadata": {},
   "outputs": [],
   "source": [
    "def text_process(mess):\n",
    "    \"\"\"\n",
    "    1.remove the punctuations\n",
    "    2.remove the stopwards\n",
    "    3. return the list of clean textwords\n",
    "    \"\"\"\n",
    "    nonpunc=[char for char in mess if char not in string.punctuation]\n",
    "    nonpunc=\"\".join(nonpunc)\n",
    "    return [word for word in nonpunc.split() if word not in stopwords.words(\"english\")]"
   ]
  },
  {
   "cell_type": "code",
   "execution_count": 21,
   "metadata": {},
   "outputs": [
    {
     "data": {
      "text/plain": [
       "0       [Go, jurong, point, crazy, Available, bugis, n...\n",
       "1                          [Ok, lar, Joking, wif, u, oni]\n",
       "2       [Free, entry, 2, wkly, comp, win, FA, Cup, fin...\n",
       "3           [U, dun, say, early, hor, U, c, already, say]\n",
       "4       [Nah, I, dont, think, goes, usf, lives, around...\n",
       "                              ...                        \n",
       "6771    [This, 2nd, time, tried, 2, contact, u, U, å£7...\n",
       "6772             [Will, Ì, b, going, esplanade, fr, home]\n",
       "6773                     [Pity, mood, Soany, suggestions]\n",
       "6774    [The, guy, bitching, I, acted, like, id, inter...\n",
       "6775                              [Rofl, Its, true, name]\n",
       "Name: message, Length: 6776, dtype: object"
      ]
     },
     "execution_count": 21,
     "metadata": {},
     "output_type": "execute_result"
    }
   ],
   "source": [
    "messages['message'].apply(text_process)"
   ]
  },
  {
   "cell_type": "code",
   "execution_count": 22,
   "metadata": {},
   "outputs": [],
   "source": [
    "#Creating Wordcloud"
   ]
  },
  {
   "cell_type": "code",
   "execution_count": 23,
   "metadata": {},
   "outputs": [
    {
     "ename": "ModuleNotFoundError",
     "evalue": "No module named 'wordcloud'",
     "output_type": "error",
     "traceback": [
      "\u001b[1;31m---------------------------------------------------------------------------\u001b[0m",
      "\u001b[1;31mModuleNotFoundError\u001b[0m                       Traceback (most recent call last)",
      "\u001b[1;32m<ipython-input-23-021e0a03a31f>\u001b[0m in \u001b[0;36m<module>\u001b[1;34m\u001b[0m\n\u001b[1;32m----> 1\u001b[1;33m \u001b[1;32mfrom\u001b[0m \u001b[0mwordcloud\u001b[0m \u001b[1;32mimport\u001b[0m \u001b[0mWordCloud\u001b[0m\u001b[1;33m\u001b[0m\u001b[1;33m\u001b[0m\u001b[0m\n\u001b[0m",
      "\u001b[1;31mModuleNotFoundError\u001b[0m: No module named 'wordcloud'"
     ]
    }
   ],
   "source": [
    "from wordcloud import WordCloud"
   ]
  },
  {
   "cell_type": "code",
   "execution_count": null,
   "metadata": {},
   "outputs": [],
   "source": [
    "cloud=WordCloud().generate(str(messages['message']))"
   ]
  },
  {
   "cell_type": "code",
   "execution_count": null,
   "metadata": {},
   "outputs": [],
   "source": [
    "plt.imshow(cloud)"
   ]
  },
  {
   "cell_type": "code",
   "execution_count": 107,
   "metadata": {},
   "outputs": [],
   "source": [
    "#Spam and Ham WordCloud"
   ]
  },
  {
   "cell_type": "code",
   "execution_count": 113,
   "metadata": {},
   "outputs": [
    {
     "data": {
      "text/plain": [
       "<matplotlib.image.AxesImage at 0x21f0f08c308>"
      ]
     },
     "execution_count": 113,
     "metadata": {},
     "output_type": "execute_result"
    },
    {
     "data": {
      "image/png": "[encoded data removed]",
      "text/plain": [
       "<Figure size 432x288 with 1 Axes>"
      ]
     },
     "metadata": {
      "needs_background": "light"
     },
     "output_type": "display_data"
    }
   ],
   "source": [
    "cloud1=WordCloud().generate(str(messages[messages.label==\"ham\"]))\n",
    "plt.imshow(cloud1)"
   ]
  },
  {
   "cell_type": "code",
   "execution_count": 115,
   "metadata": {},
   "outputs": [
    {
     "data": {
      "text/plain": [
       "<matplotlib.image.AxesImage at 0x21f0f74e2c8>"
      ]
     },
     "execution_count": 115,
     "metadata": {},
     "output_type": "execute_result"
    },
    {
     "data": {
      "image/png": "[encoded data removed]",
      "text/plain": [
       "<Figure size 1080x1440 with 1 Axes>"
      ]
     },
     "metadata": {
      "needs_background": "light"
     },
     "output_type": "display_data"
    }
   ],
   "source": [
    "cloud2=WordCloud().generate(str(messages[messages.label==\"spam\"]))\n",
    "fig=plt.figure(figsize=(15,20))\n",
    "plt.imshow(cloud2)"
   ]
  },
  {
   "cell_type": "code",
   "execution_count": 116,
   "metadata": {},
   "outputs": [],
   "source": [
    "#Wordcloud with max nos=50"
   ]
  },
  {
   "cell_type": "code",
   "execution_count": 109,
   "metadata": {},
   "outputs": [],
   "source": [
    "wc=WordCloud(max_words=50)"
   ]
  },
  {
   "cell_type": "code",
   "execution_count": 110,
   "metadata": {},
   "outputs": [],
   "source": [
    "cloud3=wc.generate(str(messages['message']))"
   ]
  },
  {
   "cell_type": "code",
   "execution_count": 112,
   "metadata": {},
   "outputs": [
    {
     "data": {
      "text/plain": [
       "<matplotlib.image.AxesImage at 0x21f0f065e88>"
      ]
     },
     "execution_count": 112,
     "metadata": {},
     "output_type": "execute_result"
    },
    {
     "data": {
      "image/png": "[encoded data removed]",
      "text/plain": [
       "<Figure size 1440x1440 with 1 Axes>"
      ]
     },
     "metadata": {
      "needs_background": "light"
     },
     "output_type": "display_data"
    }
   ],
   "source": [
    "fig=plt.figure(figsize=(20,20))\n",
    "plt.imshow(cloud3)\n"
   ]
  },
  {
   "cell_type": "code",
   "execution_count": null,
   "metadata": {},
   "outputs": [],
   "source": []
  },
  {
   "cell_type": "code",
   "execution_count": null,
   "metadata": {},
   "outputs": [],
   "source": []
  },
  {
   "cell_type": "code",
   "execution_count": 24,
   "metadata": {},
   "outputs": [],
   "source": [
    "from sklearn.feature_extraction.text import CountVectorizer"
   ]
  },
  {
   "cell_type": "code",
   "execution_count": 25,
   "metadata": {},
   "outputs": [],
   "source": [
    "how_transformer=CountVectorizer(analyzer=text_process).fit(messages[\"message\"])"
   ]
  },
  {
   "cell_type": "code",
   "execution_count": 26,
   "metadata": {},
   "outputs": [
    {
     "data": {
      "text/plain": [
       "{'Go': 2078,\n",
       " 'jurong': 7633,\n",
       " 'point': 8986,\n",
       " 'crazy': 5863,\n",
       " 'Available': 1117,\n",
       " 'bugis': 5314,\n",
       " 'n': 8408,\n",
       " 'great': 7023,\n",
       " 'world': 11219,\n",
       " 'la': 7744,\n",
       " 'e': 6309,\n",
       " 'buffet': 5313,\n",
       " 'Cine': 1497,\n",
       " 'got': 6992,\n",
       " 'amore': 4754,\n",
       " 'wat': 11021,\n",
       " 'Ok': 3122,\n",
       " 'lar': 7777,\n",
       " 'Joking': 2489,\n",
       " 'wif': 11128,\n",
       " 'u': 10758,\n",
       " 'oni': 8659,\n",
       " 'Free': 1959,\n",
       " 'entry': 6422,\n",
       " '2': 421,\n",
       " 'wkly': 11179,\n",
       " 'comp': 5713,\n",
       " 'win': 11140,\n",
       " 'FA': 1855,\n",
       " 'Cup': 1565,\n",
       " 'final': 6648,\n",
       " 'tkts': 10574,\n",
       " '21st': 441,\n",
       " 'May': 2843,\n",
       " '2005': 428,\n",
       " 'Text': 4015,\n",
       " '87121': 858,\n",
       " 'receive': 9320,\n",
       " 'questionstd': 9227,\n",
       " 'txt': 10746,\n",
       " 'rateTCs': 9268,\n",
       " 'apply': 4832,\n",
       " '08452810075over18s': 72,\n",
       " 'U': 4140,\n",
       " 'dun': 6296,\n",
       " 'say': 9621,\n",
       " 'early': 6314,\n",
       " 'hor': 7268,\n",
       " 'c': 5357,\n",
       " 'already': 4731,\n",
       " 'Nah': 2993,\n",
       " 'I': 2321,\n",
       " 'dont': 6216,\n",
       " 'think': 10496,\n",
       " 'goes': 6963,\n",
       " 'usf': 10857,\n",
       " 'lives': 7917,\n",
       " 'around': 4878,\n",
       " 'though': 10513,\n",
       " 'FreeMsg': 1961,\n",
       " 'Hey': 2249,\n",
       " 'darling': 5958,\n",
       " '3': 534,\n",
       " 'weeks': 11067,\n",
       " 'word': 11206,\n",
       " 'back': 4994,\n",
       " 'Id': 2380,\n",
       " 'like': 7875,\n",
       " 'fun': 6845,\n",
       " 'still': 10158,\n",
       " 'Tb': 3993,\n",
       " 'ok': 8636,\n",
       " 'XxX': 4475,\n",
       " 'std': 10138,\n",
       " 'chgs': 5562,\n",
       " 'send': 9707,\n",
       " 'å£150': 11426,\n",
       " 'rcv': 9277,\n",
       " 'Even': 1824,\n",
       " 'brother': 5289,\n",
       " 'speak': 10036,\n",
       " 'They': 4043,\n",
       " 'treat': 10689,\n",
       " 'aids': 4692,\n",
       " 'patent': 8830,\n",
       " 'As': 1099,\n",
       " 'per': 8865,\n",
       " 'request': 9424,\n",
       " 'Melle': 2854,\n",
       " 'Oru': 3160,\n",
       " 'Minnaminunginte': 2873,\n",
       " 'Nurungu': 3071,\n",
       " 'Vettam': 4245,\n",
       " 'set': 9730,\n",
       " 'callertune': 5388,\n",
       " 'Callers': 1434,\n",
       " 'Press': 3336,\n",
       " '9': 896,\n",
       " 'copy': 5810,\n",
       " 'friends': 6810,\n",
       " 'Callertune': 1435,\n",
       " 'WINNER': 4306,\n",
       " 'valued': 10884,\n",
       " 'network': 8478,\n",
       " 'customer': 5914,\n",
       " 'selected': 9694,\n",
       " 'receivea': 9321,\n",
       " 'å£900': 11467,\n",
       " 'prize': 9127,\n",
       " 'reward': 9481,\n",
       " 'To': 4080,\n",
       " 'claim': 5614,\n",
       " 'call': 5371,\n",
       " '09061701461': 218,\n",
       " 'Claim': 1499,\n",
       " 'code': 5669,\n",
       " 'KL341': 2516,\n",
       " 'Valid': 4235,\n",
       " '12': 324,\n",
       " 'hours': 7283,\n",
       " 'Had': 2193,\n",
       " 'mobile': 8288,\n",
       " '11': 314,\n",
       " 'months': 8323,\n",
       " 'R': 3379,\n",
       " 'entitled': 6419,\n",
       " 'Update': 4202,\n",
       " 'latest': 7792,\n",
       " 'colour': 5689,\n",
       " 'mobiles': 8289,\n",
       " 'camera': 5400,\n",
       " 'Call': 1430,\n",
       " 'The': 4029,\n",
       " 'Mobile': 2892,\n",
       " 'Co': 1506,\n",
       " 'FREE': 1884,\n",
       " '08002986030': 57,\n",
       " 'Im': 2387,\n",
       " 'gonna': 6976,\n",
       " 'home': 7242,\n",
       " 'soon': 9996,\n",
       " 'want': 11001,\n",
       " 'talk': 10367,\n",
       " 'stuff': 10217,\n",
       " 'anymore': 4802,\n",
       " 'tonight': 10618,\n",
       " 'k': 7638,\n",
       " 'Ive': 2433,\n",
       " 'cried': 5877,\n",
       " 'enough': 6410,\n",
       " 'today': 10586,\n",
       " 'SIX': 3550,\n",
       " 'chances': 5506,\n",
       " 'CASH': 1368,\n",
       " 'From': 1975,\n",
       " '100': 293,\n",
       " '20000': 425,\n",
       " 'pounds': 9044,\n",
       " 'CSH11': 1419,\n",
       " '87575': 862,\n",
       " 'Cost': 1538,\n",
       " '150pday': 362,\n",
       " '6days': 750,\n",
       " '16': 380,\n",
       " 'TsandCs': 4120,\n",
       " 'Reply': 3470,\n",
       " 'HL': 2162,\n",
       " '4': 596,\n",
       " 'info': 7434,\n",
       " 'URGENT': 4162,\n",
       " 'You': 4539,\n",
       " '1': 291,\n",
       " 'week': 11062,\n",
       " 'membership': 8183,\n",
       " 'å£100000': 11420,\n",
       " 'Prize': 3341,\n",
       " 'Jackpot': 2460,\n",
       " 'Txt': 4134,\n",
       " 'CLAIM': 1393,\n",
       " 'No': 3033,\n",
       " '81010': 808,\n",
       " 'TC': 3907,\n",
       " 'wwwdbuknet': 11287,\n",
       " 'LCCLTD': 2587,\n",
       " 'POBOX': 3200,\n",
       " '4403LDNW1A7RW18': 617,\n",
       " 'searching': 9663,\n",
       " 'right': 9490,\n",
       " 'words': 11210,\n",
       " 'thank': 10456,\n",
       " 'breather': 5263,\n",
       " 'promise': 9161,\n",
       " 'wont': 11201,\n",
       " 'take': 10359,\n",
       " 'help': 7172,\n",
       " 'granted': 7015,\n",
       " 'fulfil': 6841,\n",
       " 'wonderful': 11198,\n",
       " 'blessing': 5172,\n",
       " 'times': 10554,\n",
       " 'HAVE': 2139,\n",
       " 'A': 919,\n",
       " 'DATE': 1583,\n",
       " 'ON': 3092,\n",
       " 'SUNDAY': 3621,\n",
       " 'WITH': 4309,\n",
       " 'WILL': 4304,\n",
       " 'XXXMobileMovieClub': 4467,\n",
       " 'use': 10851,\n",
       " 'credit': 5868,\n",
       " 'click': 5635,\n",
       " 'WAP': 4275,\n",
       " 'link': 7893,\n",
       " 'next': 8491,\n",
       " 'message': 8206,\n",
       " 'httpwap': 7306,\n",
       " 'xxxmobilemovieclubcomnQJKGIGHJJGCBL': 11329,\n",
       " 'Oh': 3117,\n",
       " 'kim': 7695,\n",
       " 'watching': 11026,\n",
       " 'Eh': 1791,\n",
       " 'remember': 9387,\n",
       " 'spell': 10050,\n",
       " 'name': 8420,\n",
       " 'Yes': 4524,\n",
       " 'He': 2221,\n",
       " 'v': 10872,\n",
       " 'naughty': 8440,\n",
       " 'make': 8073,\n",
       " 'wet': 11096,\n",
       " 'Fine': 1931,\n",
       " 'thatåÕs': 10469,\n",
       " 'way': 11035,\n",
       " 'feel': 6608,\n",
       " 'ThatåÕs': 4027,\n",
       " 'gota': 6993,\n",
       " 'b': 4981,\n",
       " 'England': 1806,\n",
       " 'Macedonia': 2811,\n",
       " 'miss': 8263,\n",
       " 'goalsteam': 6956,\n",
       " 'news': 8486,\n",
       " 'ur': 10835,\n",
       " 'national': 8434,\n",
       " 'team': 10402,\n",
       " '87077': 857,\n",
       " 'eg': 6350,\n",
       " 'ENGLAND': 1749,\n",
       " 'TryWALES': 4114,\n",
       " 'SCOTLAND': 3516,\n",
       " '4txtÌ¼120': 665,\n",
       " 'POBOXox36504W45WQ': 3203,\n",
       " 'Is': 2420,\n",
       " 'seriously': 9724,\n",
       " 'I‰Û÷m': 2440,\n",
       " 'going': 6968,\n",
       " 'try': 10715,\n",
       " 'ha': 7076,\n",
       " 'joking': 7612,\n",
       " 'So': 3777,\n",
       " 'Ì': 11410,\n",
       " 'pay': 8838,\n",
       " 'first': 6675,\n",
       " 'Then': 4035,\n",
       " 'da': 5926,\n",
       " 'stock': 10162,\n",
       " 'comin': 5703,\n",
       " 'Aft': 1016,\n",
       " 'finish': 6661,\n",
       " 'lunch': 8020,\n",
       " 'go': 6950,\n",
       " 'str': 10182,\n",
       " 'lor': 7963,\n",
       " 'Ard': 1088,\n",
       " 'smth': 9946,\n",
       " 'Ffffffffff': 1922,\n",
       " 'Alright': 1053,\n",
       " 'meet': 8165,\n",
       " 'sooner': 9997,\n",
       " 'Just': 2505,\n",
       " 'forced': 6746,\n",
       " 'eat': 6326,\n",
       " 'slice': 9901,\n",
       " 'really': 9302,\n",
       " 'hungry': 7331,\n",
       " 'tho': 10509,\n",
       " 'This': 4052,\n",
       " 'sucks': 10250,\n",
       " 'Mark': 2833,\n",
       " 'getting': 6918,\n",
       " 'worried': 11225,\n",
       " 'knows': 7720,\n",
       " 'sick': 9829,\n",
       " 'turn': 10732,\n",
       " 'pizza': 8938,\n",
       " 'Lol': 2683,\n",
       " 'always': 4743,\n",
       " 'convincing': 5797,\n",
       " 'Did': 1679,\n",
       " 'catch': 5469,\n",
       " 'bus': 5333,\n",
       " 'Are': 1089,\n",
       " 'frying': 6831,\n",
       " 'egg': 6352,\n",
       " 'tea': 10396,\n",
       " 'eating': 6329,\n",
       " 'moms': 8307,\n",
       " 'left': 7823,\n",
       " 'dinner': 6139,\n",
       " 'Do': 1702,\n",
       " 'Love': 2696,\n",
       " 'amp': 4756,\n",
       " 'packing': 8762,\n",
       " 'car': 5427,\n",
       " 'Ill': 2385,\n",
       " 'let': 7844,\n",
       " 'know': 7716,\n",
       " 'theres': 10484,\n",
       " 'room': 9528,\n",
       " 'Ahhh': 1027,\n",
       " 'Work': 4443,\n",
       " 'vaguely': 10875,\n",
       " 'What': 4392,\n",
       " 'Wait': 4343,\n",
       " 'thats': 10468,\n",
       " 'clear': 5629,\n",
       " 'sure': 10301,\n",
       " 'sarcastic': 9603,\n",
       " 'x': 11316,\n",
       " 'doesnt': 6193,\n",
       " 'live': 7914,\n",
       " 'us': 10845,\n",
       " 'Yeah': 4515,\n",
       " 'apologetic': 4820,\n",
       " 'fallen': 6559,\n",
       " 'actin': 4611,\n",
       " 'spoilt': 10070,\n",
       " 'child': 5578,\n",
       " 'caught': 5473,\n",
       " 'Till': 4068,\n",
       " 'But': 1343,\n",
       " 'Not': 3059,\n",
       " 'badly': 4999,\n",
       " 'cheers': 5545,\n",
       " 'K': 2507,\n",
       " 'tell': 10418,\n",
       " 'anything': 4808,\n",
       " 'For': 1947,\n",
       " 'fear': 6600,\n",
       " 'fainting': 6550,\n",
       " 'housework': 7287,\n",
       " 'Quick': 3374,\n",
       " 'cuppa': 5904,\n",
       " 'Thanks': 4020,\n",
       " 'subscription': 10240,\n",
       " 'Ringtone': 3480,\n",
       " 'UK': 4145,\n",
       " 'charged': 5518,\n",
       " 'å£5month': 11459,\n",
       " 'Please': 3293,\n",
       " 'confirm': 5755,\n",
       " 'replying': 9419,\n",
       " 'YES': 4485,\n",
       " 'NO': 2969,\n",
       " 'If': 2384,\n",
       " 'reply': 9417,\n",
       " 'Yup': 4553,\n",
       " 'look': 7955,\n",
       " 'timings': 10560,\n",
       " 'msg': 8355,\n",
       " 'Xuhui': 4474,\n",
       " 'learn': 7812,\n",
       " '2nd': 517,\n",
       " 'may': 8138,\n",
       " 'lesson': 7842,\n",
       " '8am': 890,\n",
       " 'Oops': 3146,\n",
       " 'roommates': 9531,\n",
       " 'done': 6213,\n",
       " 'see': 9679,\n",
       " 'letter': 7846,\n",
       " 'B': 1126,\n",
       " 'Anything': 1074,\n",
       " 'decide': 6009,\n",
       " 'Hello': 2234,\n",
       " 'Hows': 2309,\n",
       " 'saturday': 9613,\n",
       " 'texting': 10447,\n",
       " 'youd': 11373,\n",
       " 'decided': 6010,\n",
       " 'tomo': 10607,\n",
       " 'im': 7387,\n",
       " 'trying': 10717,\n",
       " 'invite': 7490,\n",
       " 'Pls': 3295,\n",
       " 'ahead': 4684,\n",
       " 'watts': 11033,\n",
       " 'wanted': 11003,\n",
       " 'weekend': 11064,\n",
       " 'Abiola': 995,\n",
       " 'forget': 6752,\n",
       " 'need': 8458,\n",
       " 'crave': 5860,\n",
       " 'love': 7987,\n",
       " 'sweet': 10325,\n",
       " 'Arabian': 1086,\n",
       " 'steed': 10144,\n",
       " 'Mmmmmm': 2886,\n",
       " 'Yummy': 4550,\n",
       " '07732584351': 29,\n",
       " 'Rodger': 3486,\n",
       " 'Burns': 1341,\n",
       " 'MSG': 2794,\n",
       " 'We': 4371,\n",
       " 'tried': 10698,\n",
       " 'sms': 9941,\n",
       " 'free': 6790,\n",
       " 'nokia': 8525,\n",
       " 'camcorder': 5398,\n",
       " '08000930705': 53,\n",
       " 'delivery': 6044,\n",
       " 'tomorrow': 10610,\n",
       " 'WHO': 4298,\n",
       " 'ARE': 968,\n",
       " 'YOU': 4498,\n",
       " 'SEEING': 3519,\n",
       " 'Great': 2106,\n",
       " 'hope': 7260,\n",
       " 'man': 8082,\n",
       " 'well': 11079,\n",
       " 'endowed': 6394,\n",
       " 'ltgt': 8012,\n",
       " 'inches': 7413,\n",
       " 'callsmessagesmissed': 5394,\n",
       " 'calls': 5393,\n",
       " 'Didnt': 1680,\n",
       " 'get': 6910,\n",
       " 'hep': 7181,\n",
       " 'immunisation': 7395,\n",
       " 'nigeria': 8498,\n",
       " 'Fair': 1910,\n",
       " 'hopefully': 7264,\n",
       " 'tyler': 10752,\n",
       " 'cant': 5416,\n",
       " 'could': 5832,\n",
       " 'maybe': 8140,\n",
       " 'ask': 4900,\n",
       " 'bit': 5150,\n",
       " 'stubborn': 10208,\n",
       " 'didnt': 6108,\n",
       " 'even': 6460,\n",
       " 'hospital': 7274,\n",
       " 'kept': 7671,\n",
       " 'telling': 10419,\n",
       " 'weak': 11039,\n",
       " 'sucker': 10248,\n",
       " 'Hospitals': 2300,\n",
       " 'suckers': 10249,\n",
       " 'thinked': 10498,\n",
       " 'First': 1935,\n",
       " 'time': 10550,\n",
       " 'saw': 9620,\n",
       " 'class': 5622,\n",
       " 'gram': 7009,\n",
       " 'usually': 10863,\n",
       " 'runs': 9563,\n",
       " 'half': 7088,\n",
       " 'eighth': 6359,\n",
       " 'smarter': 9923,\n",
       " 'gets': 6914,\n",
       " 'almost': 4727,\n",
       " 'whole': 11119,\n",
       " 'second': 9667,\n",
       " 'fyi': 6858,\n",
       " 'ride': 9489,\n",
       " 'morning': 8328,\n",
       " 'hes': 7192,\n",
       " 'crashing': 5859,\n",
       " 'place': 8939,\n",
       " 'Wow': 4450,\n",
       " 'never': 8481,\n",
       " 'realized': 9300,\n",
       " 'embarassed': 6379,\n",
       " 'accomodations': 4594,\n",
       " 'thought': 10514,\n",
       " 'liked': 7876,\n",
       " 'since': 9853,\n",
       " 'best': 5111,\n",
       " 'seemed': 9685,\n",
       " 'happy': 7119,\n",
       " 'cave': 5477,\n",
       " 'sorry': 10006,\n",
       " 'give': 6936,\n",
       " 'offered': 8616,\n",
       " 'embarassing': 6380,\n",
       " 'SMS': 3561,\n",
       " 'ac': 4580,\n",
       " 'Sptv': 3820,\n",
       " 'New': 3013,\n",
       " 'Jersey': 2479,\n",
       " 'Devils': 1673,\n",
       " 'Detroit': 1672,\n",
       " 'Red': 3450,\n",
       " 'Wings': 4419,\n",
       " 'play': 8953,\n",
       " 'Ice': 2378,\n",
       " 'Hockey': 2278,\n",
       " 'Correct': 1536,\n",
       " 'Incorrect': 2396,\n",
       " 'End': 1804,\n",
       " 'END': 1747,\n",
       " 'SPTV': 3592,\n",
       " 'Mallika': 2823,\n",
       " 'Sherawat': 3708,\n",
       " 'yesterday': 11354,\n",
       " 'Find': 1930,\n",
       " 'ltURLgt': 8011,\n",
       " 'Congrats': 1527,\n",
       " 'year': 11345,\n",
       " 'special': 10038,\n",
       " 'cinema': 5610,\n",
       " 'pass': 8819,\n",
       " '09061209465': 213,\n",
       " 'C': 1351,\n",
       " 'Suprman': 3880,\n",
       " 'V': 4219,\n",
       " 'Matrix3': 2840,\n",
       " 'StarWars3': 3829,\n",
       " 'etc': 6450,\n",
       " 'bx420ip45we': 5352,\n",
       " '150pm': 363,\n",
       " 'Dont': 1715,\n",
       " 'Sorry': 3793,\n",
       " 'later': 7790,\n",
       " 'meeting': 8167,\n",
       " 'Tell': 4004,\n",
       " 'reached': 9284,\n",
       " 'Yesgauti': 4527,\n",
       " 'sehwag': 9691,\n",
       " 'odi': 8611,\n",
       " 'series': 9722,\n",
       " 'Your': 4543,\n",
       " 'pick': 8913,\n",
       " 'burger': 5325,\n",
       " 'move': 8342,\n",
       " 'Pain': 3238,\n",
       " 'killing': 7692,\n",
       " 'Ha': 2190,\n",
       " 'good': 6978,\n",
       " 'joke': 7607,\n",
       " 'Girls': 2073,\n",
       " 'situation': 9873,\n",
       " 'seekers': 9682,\n",
       " 'Its': 2428,\n",
       " 'part': 8808,\n",
       " 'checking': 5542,\n",
       " 'IQ': 2361,\n",
       " 'took': 10626,\n",
       " 'forever': 6749,\n",
       " 'come': 5696,\n",
       " 'double': 6227,\n",
       " 'check': 5539,\n",
       " 'hair': 7085,\n",
       " 'dresser': 6254,\n",
       " 'said': 9579,\n",
       " 'wun': 11264,\n",
       " 'cut': 5917,\n",
       " 'short': 9795,\n",
       " 'nice': 8494,\n",
       " 'pleased': 8964,\n",
       " 'advise': 4649,\n",
       " 'following': 6730,\n",
       " 'recent': 9324,\n",
       " 'review': 9479,\n",
       " 'Mob': 2889,\n",
       " 'awarded': 4974,\n",
       " 'å£1500': 11427,\n",
       " 'Bonus': 1293,\n",
       " '09066364589': 262,\n",
       " 'Today': 4082,\n",
       " 'song': 9992,\n",
       " 'dedicated': 6019,\n",
       " 'day': 5975,\n",
       " 'Which': 4406,\n",
       " 'dedicate': 6018,\n",
       " 'Send': 3677,\n",
       " 'valuable': 10881,\n",
       " 'frnds': 6819,\n",
       " 'rply': 9544,\n",
       " 'Urgent': 4209,\n",
       " 'UR': 4159,\n",
       " 'complimentary': 5730,\n",
       " 'trip': 10699,\n",
       " 'EuroDisinc': 1821,\n",
       " 'Trav': 4104,\n",
       " 'AcoEntry41': 1005,\n",
       " 'Or': 3152,\n",
       " 'å£1000': 11418,\n",
       " 'DIS': 1603,\n",
       " '186å£150moreFrmMob': 389,\n",
       " 'ShrAcomOrSglSuplt10': 3729,\n",
       " 'LS1': 2624,\n",
       " '3AJ': 567,\n",
       " 'hear': 7149,\n",
       " 'new': 8484,\n",
       " 'Divorce': 1696,\n",
       " 'Barbie': 1232,\n",
       " 'It': 2424,\n",
       " 'comes': 5700,\n",
       " 'Kens': 2534,\n",
       " 'plane': 8946,\n",
       " 'month': 8320,\n",
       " 'end': 6390,\n",
       " 'Wah': 4341,\n",
       " 'lucky': 8017,\n",
       " 'save': 9616,\n",
       " 'money': 8313,\n",
       " 'Hee': 2229,\n",
       " 'Finished': 1934,\n",
       " 'HI': 2156,\n",
       " 'BABE': 1130,\n",
       " 'IM': 2339,\n",
       " 'AT': 978,\n",
       " 'HOME': 2168,\n",
       " 'NOW': 2982,\n",
       " 'WANNA': 4272,\n",
       " 'DO': 1606,\n",
       " 'SOMETHING': 3570,\n",
       " 'XX': 4464,\n",
       " 'Kkwhere': 2564,\n",
       " 'youhow': 11376,\n",
       " 'performed': 8872,\n",
       " 'waiting': 10980,\n",
       " 'machan': 8042,\n",
       " 'Thats': 4026,\n",
       " 'cool': 5803,\n",
       " 'gentleman': 6904,\n",
       " 'dignity': 6130,\n",
       " 'respect': 9445,\n",
       " 'peoples': 8864,\n",
       " 'much': 8371,\n",
       " 'shy': 9825,\n",
       " 'pa': 8757,\n",
       " 'Does': 1705,\n",
       " 'operate': 8675,\n",
       " 'Still': 3841,\n",
       " 'looking': 7958,\n",
       " 'job': 7594,\n",
       " 'How': 2306,\n",
       " 'Tas': 3990,\n",
       " 'earn': 6315,\n",
       " 'ah': 4682,\n",
       " 'hi': 7199,\n",
       " 'stop': 10171,\n",
       " 'urgnt': 10840,\n",
       " 'real': 9294,\n",
       " 'yo': 11363,\n",
       " 'tickets': 10541,\n",
       " 'one': 8655,\n",
       " 'jacket': 7555,\n",
       " 'used': 10852,\n",
       " 'multis': 8379,\n",
       " 'started': 10119,\n",
       " 'requests': 9425,\n",
       " 'pain': 8769,\n",
       " 'came': 5399,\n",
       " 'bed': 5072,\n",
       " 'Double': 1721,\n",
       " 'coins': 5675,\n",
       " 'factory': 6542,\n",
       " 'gotta': 6996,\n",
       " 'cash': 5458,\n",
       " 'nitros': 8515,\n",
       " 'babe': 4986,\n",
       " 'Ela': 1794,\n",
       " 'kanoil': 7654,\n",
       " 'download': 6233,\n",
       " 'wen': 11084,\n",
       " 'Don‰Û÷t': 1718,\n",
       " 'stand': 10108,\n",
       " 'close': 5641,\n",
       " 'you‰Û÷ll': 11393,\n",
       " 'something': 9980,\n",
       " 'another': 4787,\n",
       " 'night': 8499,\n",
       " 'spent': 10055,\n",
       " 'late': 7785,\n",
       " 'afternoon': 4665,\n",
       " 'casualty': 5467,\n",
       " 'means': 8156,\n",
       " 'havent': 7134,\n",
       " 'stuff42moro': 10218,\n",
       " 'includes': 7416,\n",
       " 'sheets': 9765,\n",
       " 'Smile': 3769,\n",
       " 'Pleasure': 3294,\n",
       " 'trouble': 10704,\n",
       " 'pours': 9046,\n",
       " 'Rain': 3423,\n",
       " 'sum1': 10268,\n",
       " 'Hurts': 2319,\n",
       " 'becoz': 5070,\n",
       " 'SOMEONE': 3568,\n",
       " 'Loves': 2702,\n",
       " 'Smiling': 3771,\n",
       " 'service': 9727,\n",
       " 'representative': 9422,\n",
       " '0800': 49,\n",
       " '169': 382,\n",
       " '6031': 713,\n",
       " '10am9pm': 308,\n",
       " 'WON': 4318,\n",
       " 'guaranteed': 7054,\n",
       " 'å£5000': 11454,\n",
       " 'Havent': 2218,\n",
       " 'planning': 8950,\n",
       " 'buy': 5344,\n",
       " 'lido': 7858,\n",
       " '530': 684,\n",
       " 'show': 9809,\n",
       " 'work': 11211,\n",
       " 'ringtone': 9497,\n",
       " 'collected': 5682,\n",
       " 'Simply': 3739,\n",
       " 'text': 10442,\n",
       " 'password': 8827,\n",
       " 'MIX': 2769,\n",
       " '85069': 843,\n",
       " 'verify': 10902,\n",
       " 'Get': 2065,\n",
       " 'Usher': 4214,\n",
       " 'Britney': 1327,\n",
       " 'FML': 1878,\n",
       " 'Watching': 4365,\n",
       " 'telugu': 10423,\n",
       " 'moviewat': 8347,\n",
       " 'abt': 4576,\n",
       " 'When': 4397,\n",
       " 'loads': 7925,\n",
       " 'loans': 7927,\n",
       " 'Hi': 2252,\n",
       " 'Wk': 4428,\n",
       " 'hols': 7240,\n",
       " 'run': 9560,\n",
       " 'Forgot': 1952,\n",
       " 'hairdressers': 7087,\n",
       " 'appointment': 4836,\n",
       " 'four': 6776,\n",
       " 'shower': 9811,\n",
       " 'beforehand': 5082,\n",
       " 'cause': 5474,\n",
       " 'prob': 9131,\n",
       " 'ham': 7092,\n",
       " 'nothing': 8550,\n",
       " 'else': 6374,\n",
       " 'Okay': 3123,\n",
       " 'price': 9107,\n",
       " 'long': 7951,\n",
       " 'legal': 7826,\n",
       " 'Wen': 4383,\n",
       " 'Y': 4477,\n",
       " 'ave': 4962,\n",
       " 'ams': 4758,\n",
       " 'xx': 11326,\n",
       " 'And': 1069,\n",
       " 'gone': 6974,\n",
       " '4the': 663,\n",
       " 'driving': 6263,\n",
       " 'test': 10438,\n",
       " 'yet': 11355,\n",
       " 'wow': 11240,\n",
       " 'Youre': 4544,\n",
       " 'mean': 8152,\n",
       " 'guess': 7058,\n",
       " 'gave': 6887,\n",
       " 'boston': 5223,\n",
       " 'men': 8188,\n",
       " 'changed': 5508,\n",
       " 'search': 9662,\n",
       " 'location': 7930,\n",
       " 'nyc': 8589,\n",
       " 'Cuz': 1574,\n",
       " 'signin': 9839,\n",
       " 'page': 8765,\n",
       " 'says': 9625,\n",
       " 'Umma': 4181,\n",
       " 'life': 7861,\n",
       " 'vava': 10892,\n",
       " 'umma': 10771,\n",
       " 'lot': 7972,\n",
       " 'dear': 5996,\n",
       " 'wishes': 11160,\n",
       " 'birthday': 5148,\n",
       " 'making': 8077,\n",
       " 'truly': 10711,\n",
       " 'memorable': 8185,\n",
       " 'Aight': 1030,\n",
       " 'hit': 7218,\n",
       " 'would': 11236,\n",
       " 'ip': 7498,\n",
       " 'address': 4626,\n",
       " 'considering': 5772,\n",
       " 'computer': 5736,\n",
       " 'isnt': 7520,\n",
       " 'minecraft': 8242,\n",
       " 'server': 9726,\n",
       " 'Grumpy': 2110,\n",
       " 'old': 8649,\n",
       " 'people': 8863,\n",
       " 'My': 2942,\n",
       " 'mom': 8304,\n",
       " 'better': 5117,\n",
       " 'lying': 8033,\n",
       " 'jokes': 7609,\n",
       " 'worry': 11227,\n",
       " 'busy': 5339,\n",
       " 'plural': 8974,\n",
       " 'noun': 8557,\n",
       " 'research': 9431,\n",
       " 'Going': 2084,\n",
       " 'dinnermsg': 6140,\n",
       " 'cos': 5821,\n",
       " 'things': 10495,\n",
       " 'scared': 9631,\n",
       " 'mah': 8063,\n",
       " 'Cos': 1537,\n",
       " 'loud': 7982,\n",
       " 'GENT': 1998,\n",
       " 'contact': 5777,\n",
       " 'Last': 2642,\n",
       " 'weekends': 11065,\n",
       " 'draw': 6243,\n",
       " 'shows': 9816,\n",
       " 'GUARANTEED': 2040,\n",
       " '09064012160': 237,\n",
       " 'Code': 1508,\n",
       " 'K52': 2508,\n",
       " '12hrs': 336,\n",
       " '150ppm': 368,\n",
       " 'Wa': 4339,\n",
       " 'openin': 8672,\n",
       " 'sentence': 9716,\n",
       " 'formal': 6760,\n",
       " 'Anyway': 1076,\n",
       " 'fine': 6656,\n",
       " 'juz': 7637,\n",
       " 'tt': 10721,\n",
       " 'eatin': 6328,\n",
       " 'puttin': 9211,\n",
       " 'weightHaha': 11072,\n",
       " 'anythin': 4807,\n",
       " 'happened': 7111,\n",
       " 'entered': 6412,\n",
       " 'cabin': 5359,\n",
       " 'PA': 3170,\n",
       " 'Happy': 2208,\n",
       " 'Bday': 1239,\n",
       " 'Boss': 1301,\n",
       " 'felt': 6617,\n",
       " 'She': 3706,\n",
       " 'askd': 4901,\n",
       " 'After': 1017,\n",
       " 'invited': 7491,\n",
       " 'apartment': 4816,\n",
       " 'went': 11086,\n",
       " 'winner': 11150,\n",
       " 'specially': 10042,\n",
       " 'holiday': 7236,\n",
       " 'flights': 6700,\n",
       " 'inc': 7411,\n",
       " 'operator': 8676,\n",
       " '0871277810910pmin': 122,\n",
       " '18': 385,\n",
       " 'Goodo': 2093,\n",
       " 'must': 8396,\n",
       " 'friday': 6803,\n",
       " 'eggpotato': 6353,\n",
       " 'ratio': 9271,\n",
       " 'tortilla': 10643,\n",
       " 'needed': 8460,\n",
       " 'Hmmmy': 2275,\n",
       " 'uncle': 10776,\n",
       " 'informed': 7438,\n",
       " 'paying': 8842,\n",
       " 'school': 9637,\n",
       " 'directly': 6144,\n",
       " 'pls': 8970,\n",
       " 'food': 6736,\n",
       " 'PRIVATE': 3225,\n",
       " '2004': 427,\n",
       " 'Account': 1001,\n",
       " 'Statement': 3834,\n",
       " '07742676969': 31,\n",
       " '786': 775,\n",
       " 'unredeemed': 10814,\n",
       " 'Points': 3309,\n",
       " '08719180248': 170,\n",
       " 'Identifier': 2382,\n",
       " '45239': 629,\n",
       " 'Expires': 1847,\n",
       " 'å£2000': 11439,\n",
       " 'Caller': 1433,\n",
       " '5903': 689,\n",
       " 'Landline': 2637,\n",
       " '09064019788': 243,\n",
       " 'BOX42WR29C': 1192,\n",
       " '150PPM': 353,\n",
       " 'applespairsall': 4830,\n",
       " 'malarky': 8079,\n",
       " 'Todays': 4083,\n",
       " 'Voda': 4254,\n",
       " 'numbers': 8580,\n",
       " 'ending': 6392,\n",
       " '7548': 770,\n",
       " '350': 557,\n",
       " 'award': 4973,\n",
       " 'match': 8119,\n",
       " 'please': 8963,\n",
       " '08712300220': 104,\n",
       " 'quoting': 9238,\n",
       " '4041': 601,\n",
       " 'standard': 10109,\n",
       " 'rates': 9269,\n",
       " 'app': 4824,\n",
       " 'sao': 9598,\n",
       " 'mu': 8370,\n",
       " 'Will': 4416,\n",
       " 'ÌÏ': 11413,\n",
       " 'predict': 9074,\n",
       " 'Ìll': 11411,\n",
       " 'buying': 5347,\n",
       " 'Good': 2088,\n",
       " 'knowyetunde': 7723,\n",
       " 'hasnt': 7126,\n",
       " 'sent': 9715,\n",
       " 'bother': 5225,\n",
       " 'sending': 9708,\n",
       " 'involve': 7495,\n",
       " 'shouldnt': 9803,\n",
       " 'imposed': 7401,\n",
       " 'apologise': 4821,\n",
       " 'HEY': 2152,\n",
       " 'GIRL': 2004,\n",
       " 'HOW': 2178,\n",
       " 'HOPE': 2171,\n",
       " 'WELL': 4283,\n",
       " 'ME': 2743,\n",
       " 'AN': 957,\n",
       " 'DEL': 1595,\n",
       " 'BAK': 1139,\n",
       " 'AGAIN': 936,\n",
       " 'LONG': 2611,\n",
       " 'TIME': 3949,\n",
       " 'GIVE': 2007,\n",
       " 'CALL': 1355,\n",
       " 'SUM': 3618,\n",
       " 'FROM': 1899,\n",
       " 'LUCYxx': 2630,\n",
       " 'Kkhow': 2558,\n",
       " 'cost': 5823,\n",
       " 'Dear': 1650,\n",
       " 'Tmorrowpls': 4075,\n",
       " 'accomodate': 4593,\n",
       " 'answer': 4790,\n",
       " 'question': 9224,\n",
       " 'Sunshine': 3876,\n",
       " 'Quiz': 3376,\n",
       " 'Wkly': 4429,\n",
       " 'Q': 3362,\n",
       " 'Win': 4417,\n",
       " 'top': 10634,\n",
       " 'Sony': 3790,\n",
       " 'DVD': 1631,\n",
       " 'player': 8955,\n",
       " 'country': 5838,\n",
       " 'Algarve': 1046,\n",
       " 'ansr': 4789,\n",
       " '82277': 814,\n",
       " 'SPTyrone': 3593,\n",
       " 'Want': 4354,\n",
       " 'laid': 7757,\n",
       " 'Dogging': 1707,\n",
       " 'locations': 7931,\n",
       " 'direct': 6143,\n",
       " 'mob': 8287,\n",
       " 'Join': 2485,\n",
       " 'UKs': 4148,\n",
       " 'largest': 7779,\n",
       " 'Network': 3008,\n",
       " 'bt': 5303,\n",
       " 'Txting': 4137,\n",
       " 'GRAVEL': 2036,\n",
       " '69888': 739,\n",
       " 'Nt': 3068,\n",
       " 'ec2a': 6331,\n",
       " '31pmsg150p': 550,\n",
       " 'haf': 7081,\n",
       " 'msn': 8365,\n",
       " 'yijuehotmailcom': 11361,\n",
       " 'rooms': 9532,\n",
       " ...}"
      ]
     },
     "execution_count": 26,
     "metadata": {},
     "output_type": "execute_result"
    }
   ],
   "source": [
    "how_transformer.vocabulary_"
   ]
  },
  {
   "cell_type": "code",
   "execution_count": 27,
   "metadata": {},
   "outputs": [
    {
     "data": {
      "text/plain": [
       "11480"
      ]
     },
     "execution_count": 27,
     "metadata": {},
     "output_type": "execute_result"
    }
   ],
   "source": [
    "len(how_transformer.vocabulary_) #Total no of Unique words"
   ]
  },
  {
   "cell_type": "code",
   "execution_count": 28,
   "metadata": {},
   "outputs": [],
   "source": [
    "messages_how=how_transformer.transform(messages.message)"
   ]
  },
  {
   "cell_type": "code",
   "execution_count": 32,
   "metadata": {
    "scrolled": true
   },
   "outputs": [
    {
     "name": "stdout",
     "output_type": "stream",
     "text": [
      "  (0, 1117)\t1\n",
      "  (0, 1497)\t1\n",
      "  (0, 2078)\t1\n",
      "  (0, 4754)\t1\n",
      "  (0, 5313)\t1\n",
      "  (0, 5314)\t1\n",
      "  (0, 5863)\t1\n",
      "  (0, 6309)\t1\n",
      "  (0, 6992)\t1\n",
      "  (0, 7023)\t1\n",
      "  (0, 7633)\t1\n",
      "  (0, 7744)\t1\n",
      "  (0, 8408)\t1\n",
      "  (0, 8986)\t1\n",
      "  (0, 11021)\t1\n",
      "  (0, 11219)\t1\n",
      "  (1, 2489)\t1\n",
      "  (1, 3122)\t1\n",
      "  (1, 7777)\t1\n",
      "  (1, 8659)\t1\n",
      "  (1, 10758)\t1\n",
      "  (1, 11128)\t1\n",
      "  (2, 72)\t1\n",
      "  (2, 421)\t1\n",
      "  (2, 428)\t1\n",
      "  :\t:\n",
      "  (6772, 11410)\t1\n",
      "  (6773, 3286)\t1\n",
      "  (6773, 3778)\t1\n",
      "  (6773, 8324)\t1\n",
      "  (6773, 10263)\t1\n",
      "  (6774, 2321)\t1\n",
      "  (6774, 4029)\t1\n",
      "  (6774, 4610)\t1\n",
      "  (6774, 5152)\t1\n",
      "  (6774, 5347)\t1\n",
      "  (6774, 6374)\t1\n",
      "  (6774, 6790)\t1\n",
      "  (6774, 6887)\t1\n",
      "  (6774, 7069)\t1\n",
      "  (6774, 7367)\t1\n",
      "  (6774, 7474)\t1\n",
      "  (6774, 7875)\t1\n",
      "  (6774, 8491)\t1\n",
      "  (6774, 9980)\t1\n",
      "  (6774, 10845)\t1\n",
      "  (6774, 11062)\t1\n",
      "  (6775, 2428)\t1\n",
      "  (6775, 3487)\t1\n",
      "  (6775, 8420)\t1\n",
      "  (6775, 10708)\t1\n"
     ]
    }
   ],
   "source": [
    "print(messages_how)"
   ]
  },
  {
   "cell_type": "code",
   "execution_count": 125,
   "metadata": {},
   "outputs": [
    {
     "data": {
      "text/plain": [
       "scipy.sparse.csr.csr_matrix"
      ]
     },
     "execution_count": 125,
     "metadata": {},
     "output_type": "execute_result"
    }
   ],
   "source": [
    "type(messages_how)"
   ]
  },
  {
   "cell_type": "code",
   "execution_count": 30,
   "metadata": {},
   "outputs": [
    {
     "data": {
      "text/plain": [
       "(6776, 11480)"
      ]
     },
     "execution_count": 30,
     "metadata": {},
     "output_type": "execute_result"
    }
   ],
   "source": [
    "messages_how.shape"
   ]
  },
  {
   "cell_type": "code",
   "execution_count": null,
   "metadata": {},
   "outputs": [],
   "source": []
  },
  {
   "cell_type": "code",
   "execution_count": 31,
   "metadata": {},
   "outputs": [],
   "source": [
    "from sklearn.model_selection import train_test_split"
   ]
  },
  {
   "cell_type": "code",
   "execution_count": 33,
   "metadata": {},
   "outputs": [],
   "source": [
    "x_train,x_test,y_train,y_test=train_test_split(messages_how,messages.label,test_size=.2,random_state=101)"
   ]
  },
  {
   "cell_type": "code",
   "execution_count": 34,
   "metadata": {},
   "outputs": [],
   "source": [
    "from sklearn.naive_bayes import MultinomialNB"
   ]
  },
  {
   "cell_type": "code",
   "execution_count": 35,
   "metadata": {},
   "outputs": [],
   "source": [
    "nb=MultinomialNB()"
   ]
  },
  {
   "cell_type": "code",
   "execution_count": 36,
   "metadata": {},
   "outputs": [
    {
     "data": {
      "text/plain": [
       "MultinomialNB(alpha=1.0, class_prior=None, fit_prior=True)"
      ]
     },
     "execution_count": 36,
     "metadata": {},
     "output_type": "execute_result"
    }
   ],
   "source": [
    "nb.fit(x_train,y_train)"
   ]
  },
  {
   "cell_type": "code",
   "execution_count": 37,
   "metadata": {},
   "outputs": [],
   "source": [
    "pred=nb.predict(x_test)"
   ]
  },
  {
   "cell_type": "code",
   "execution_count": 38,
   "metadata": {},
   "outputs": [
    {
     "data": {
      "text/plain": [
       "array(['ham', 'ham', 'ham', ..., 'ham', 'ham', 'ham'], dtype='<U4')"
      ]
     },
     "execution_count": 38,
     "metadata": {},
     "output_type": "execute_result"
    }
   ],
   "source": [
    "pred\n"
   ]
  },
  {
   "cell_type": "code",
   "execution_count": 139,
   "metadata": {},
   "outputs": [],
   "source": [
    "#In above code we are creating a model to predict whether the word will fall in spam or ham category"
   ]
  },
  {
   "cell_type": "code",
   "execution_count": 40,
   "metadata": {},
   "outputs": [],
   "source": [
    "from sklearn.metrics import confusion_matrix"
   ]
  },
  {
   "cell_type": "code",
   "execution_count": 44,
   "metadata": {},
   "outputs": [
    {
     "name": "stdout",
     "output_type": "stream",
     "text": [
      "Accuracy of Naive Byes Model is 97.4188790560472 %\n"
     ]
    }
   ],
   "source": [
    "nb_conf=confusion_matrix(pred,y_test)\n",
    "nb_accu=nb_conf.diagonal().sum()/nb_conf.sum()\n",
    "print(\"Accuracy of Naive Byes Model is\",nb_accu*100,\"%\")"
   ]
  },
  {
   "cell_type": "markdown",
   "metadata": {},
   "source": [
    "## Building model using Random Forest"
   ]
  },
  {
   "cell_type": "code",
   "execution_count": 45,
   "metadata": {},
   "outputs": [],
   "source": [
    "from sklearn.ensemble import RandomForestClassifier"
   ]
  },
  {
   "cell_type": "code",
   "execution_count": 46,
   "metadata": {},
   "outputs": [],
   "source": [
    "rf=RandomForestClassifier()"
   ]
  },
  {
   "cell_type": "code",
   "execution_count": 47,
   "metadata": {},
   "outputs": [
    {
     "name": "stderr",
     "output_type": "stream",
     "text": [
      "C:\\ProgramData\\Anaconda3\\lib\\site-packages\\sklearn\\ensemble\\forest.py:245: FutureWarning: The default value of n_estimators will change from 10 in version 0.20 to 100 in 0.22.\n",
      "  \"10 in version 0.20 to 100 in 0.22.\", FutureWarning)\n"
     ]
    }
   ],
   "source": [
    "rf_nlp=rf.fit(x_train,y_train)"
   ]
  },
  {
   "cell_type": "code",
   "execution_count": 48,
   "metadata": {},
   "outputs": [],
   "source": [
    "rf_nlp_pred=rf.predict(x_test)"
   ]
  },
  {
   "cell_type": "code",
   "execution_count": 50,
   "metadata": {},
   "outputs": [],
   "source": [
    "conf=confusion_matrix(rf_nlp_pred,y_test)"
   ]
  },
  {
   "cell_type": "code",
   "execution_count": 52,
   "metadata": {},
   "outputs": [
    {
     "name": "stdout",
     "output_type": "stream",
     "text": [
      "Accuracy of Random Forest Model is 97.86135693215338 %\n"
     ]
    }
   ],
   "source": [
    "accu=conf.diagonal().sum()/conf.sum()\n",
    "print(\"Accuracy of Random Forest Model is\",accu*100,\"%\")"
   ]
  },
  {
   "cell_type": "code",
   "execution_count": 155,
   "metadata": {},
   "outputs": [],
   "source": [
    "#Below program is just to check the amount of time required to run a code, this a generic concept not firmly attached with NLP"
   ]
  },
  {
   "cell_type": "code",
   "execution_count": 159,
   "metadata": {},
   "outputs": [
    {
     "name": "stdout",
     "output_type": "stream",
     "text": [
      "Program executed in  32.75676740000017 seconds\n"
     ]
    }
   ],
   "source": [
    "import timeit\n",
    "start=timeit.default_timer() #you can write any code in between\n",
    "messages['message'].apply(text_process)\n",
    "stop=timeit.default_timer()\n",
    "execute_time=stop-start\n",
    "print(\"Program executed in \",execute_time, \"seconds\")"
   ]
  },
  {
   "cell_type": "code",
   "execution_count": null,
   "metadata": {},
   "outputs": [],
   "source": []
  }
 ],
 "metadata": {
  "kernelspec": {
   "display_name": "Python 3",
   "language": "python",
   "name": "python3"
  },
  "language_info": {
   "codemirror_mode": {
    "name": "ipython",
    "version": 3
   },
   "file_extension": ".py",
   "mimetype": "text/x-python",
   "name": "python",
   "nbconvert_exporter": "python",
   "pygments_lexer": "ipython3",
   "version": "3.7.4"
  }
 },
 "nbformat": 4,
 "nbformat_minor": 2
}
